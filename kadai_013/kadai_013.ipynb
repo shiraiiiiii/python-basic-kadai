{
  "nbformat": 4,
  "nbformat_minor": 0,
  "metadata": {
    "colab": {
      "provenance": []
    },
    "kernelspec": {
      "name": "python3",
      "display_name": "Python 3"
    },
    "language_info": {
      "name": "python"
    }
  },
  "cells": [
    {
      "cell_type": "code",
      "execution_count": 2,
      "metadata": {
        "colab": {
          "base_uri": "https://localhost:8080/"
        },
        "id": "pRZmfGEEka8C",
        "outputId": "4f2a19cf-c704-4db7-c766-049e105b3c63"
      },
      "outputs": [
        {
          "output_type": "stream",
          "name": "stdout",
          "text": [
            "total is 121.0\n"
          ]
        }
      ],
      "source": [
        "def product(price):\n",
        "    tax = 0.10\n",
        "    total = price * tax + price\n",
        "    return total\n",
        "\n",
        "print(f\"total is {product(110)}\")"
      ]
    }
  ]
}