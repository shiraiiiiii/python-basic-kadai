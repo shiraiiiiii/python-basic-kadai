{
  "nbformat": 4,
  "nbformat_minor": 0,
  "metadata": {
    "colab": {
      "provenance": []
    },
    "kernelspec": {
      "name": "python3",
      "display_name": "Python 3"
    },
    "language_info": {
      "name": "python"
    }
  },
  "cells": [
    {
      "cell_type": "code",
      "execution_count": 2,
      "metadata": {
        "colab": {
          "base_uri": "https://localhost:8080/"
        },
        "id": "pRZmfGEEka8C",
        "outputId": "3da9dcb2-ab85-4e7d-9c9b-b0596f4735eb"
      },
      "outputs": [
        {
          "output_type": "stream",
          "name": "stdout",
          "text": [
            "121.0\n"
          ]
        }
      ],
      "source": [
        "def product(price, tax):\n",
        "    total = ((price * tax)/100) + price\n",
        "    return total\n",
        "\n",
        "print(f\"{product(110,10)}\")"
      ]
    }
  ]
}